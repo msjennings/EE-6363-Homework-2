{
 "cells": [
  {
   "cell_type": "code",
   "execution_count": null,
   "metadata": {},
   "outputs": [],
   "source": [
    "import os\n",
    "from keras.models import Sequential\n",
    "from keras.layers import Dense, Dropout, Activation, Flatten, Conv2D, MaxPooling2D\n",
    "from sklearn.model_selection import train_test_split\n",
    "import numpy as np\n",
    "from os import listdir\n",
    "from skimage import io\n",
    "from scipy.misc import imresize\n",
    "import keras\n",
    "from keras.optimizers import Adam\n",
    "import pandas as pd\n",
    "import pylab as plt"
   ]
  },
  {
   "cell_type": "code",
   "execution_count": null,
   "metadata": {},
   "outputs": [],
   "source": [
    "img_size = 64\n",
    "batch_size = 128\n",
    "epochs = 5\n",
    "\n",
    "# load image\n",
    "data_path='C:/Users/pli6894/Desktop/Train_Data/'\n",
    "labels = listdir(data_path)\n",
    "x_cat=[];\n",
    "x_dog=[];\n",
    "\n"
   ]
  },
  {
   "cell_type": "code",
   "execution_count": null,
   "metadata": {
    "scrolled": false
   },
   "outputs": [],
   "source": [
    "cat_imgpath = listdir(data_path+'/'+labels[0])\n",
    "dog_imgpath = listdir(data_path+'/'+labels[1])\n",
    "\n",
    "for img in cat_imgpath:\n",
    "    cat_img = io.imread(data_path+'/'+labels[0]+'/'+img)\n",
    "    x_cat.append(imresize(cat_img, (img_size, img_size, 3)))\n",
    "    y_cat=np.ones(len(cat_imgpath))\n",
    "for img in dog_imgpath:\n",
    "    dog_img = io.imread(data_path + '/' + labels[1] + '/' + img)\n",
    "    x_dog.append(imresize(dog_img, (img_size, img_size, 3)))\n",
    "\n",
    "y_cat = np.zeros(len(cat_imgpath))\n",
    "y_dog = np.ones(len(dog_imgpath))\n",
    "\n",
    "x=np.asarray(x_cat+x_dog)\n",
    "y=np.append(y_cat,y_dog)"
   ]
  },
  {
   "cell_type": "code",
   "execution_count": null,
   "metadata": {},
   "outputs": [],
   "source": [
    "catImages = listdir(data_path+'/'+labels[0])\n",
    "print (\"Number of Cat images - \",str(len(catImages)))\n",
    "\n",
    "dogImages = listdir(data_path+'/'+labels[1])\n",
    "print (\"Number of Dog images - \",str(len(dogImages)))"
   ]
  },
  {
   "cell_type": "code",
   "execution_count": null,
   "metadata": {},
   "outputs": [],
   "source": [
    "from PIL import Image\n",
    "import random\n",
    "\n",
    "dogFilename = 'C:/Users/pli6894/Desktop/Train_Data/dog/'+dogImages[2]\n",
    "dimage = Image.open(dogFilename)\n",
    "\n",
    "plt.imshow(dimage)"
   ]
  },
  {
   "cell_type": "code",
   "execution_count": null,
   "metadata": {},
   "outputs": [],
   "source": [
    "catFilename = 'C:/Users/pli6894/Desktop/Train_Data/cat/'+catImages[28]\n",
    "cimage = Image.open(catFilename)\n",
    "\n",
    "plt.imshow(cimage)"
   ]
  },
  {
   "cell_type": "code",
   "execution_count": null,
   "metadata": {},
   "outputs": [],
   "source": [
    "y = keras.utils.to_categorical(y)\n",
    "train_x, test_x, train_y, test_y = train_test_split(x, y, test_size=0.1, random_state=300)"
   ]
  },
  {
   "cell_type": "code",
   "execution_count": null,
   "metadata": {},
   "outputs": [],
   "source": [
    "train_x"
   ]
  },
  {
   "cell_type": "markdown",
   "metadata": {},
   "source": [
    "Basic Model (no changes) -- Does not converge"
   ]
  },
  {
   "cell_type": "code",
   "execution_count": null,
   "metadata": {
    "scrolled": true
   },
   "outputs": [],
   "source": [
    "model = Sequential()\n",
    "model.add(Conv2D(32, (3, 3), input_shape=(img_size, img_size, 3)))\n",
    "model.add(Activation('sigmoid'))\n",
    "model.add(MaxPooling2D(pool_size=(2, 2)))\n",
    "model.add(Flatten())\n",
    "model.add(Dense(64))\n",
    "model.add(Dropout(0.1))\n",
    "model.add(Activation('sigmoid'))\n",
    "model.add(Dense(2))\n",
    "model.add(Activation('softmax'))\n",
    "adamop=Adam(lr=0.1)\n",
    "model.compile(loss='binary_crossentropy', optimizer='adam', metrics=['accuracy'])\n",
    "h = model.fit(train_x, train_y, validation_data=(test_x, test_y),\n",
    " batch_size=batch_size,\n",
    " epochs=epochs,\n",
    " shuffle=True)\n",
    "score = model.evaluate(test_x, test_y)\n",
    "pred=model.predict(test_x)\n",
    "print('Test loss:', score[0])\n",
    "print('Test accuracy:', score[1])"
   ]
  },
  {
   "cell_type": "code",
   "execution_count": null,
   "metadata": {},
   "outputs": [],
   "source": [
    "model.summary()"
   ]
  },
  {
   "cell_type": "code",
   "execution_count": null,
   "metadata": {},
   "outputs": [],
   "source": [
    "#Plot Accuracy & Loss for basic model\n",
    "\n",
    "print(h.history.keys())\n",
    "fig = plt.figure()\n",
    "plt.plot(h.history['acc'], color='blue')\n",
    "plt.plot(h.history['val_acc'], color='red')\n",
    "plt.legend(['Train Accuracy', 'Test Accuracy'], loc='upper right')\n",
    "plt.title('Model Accuracy')\n",
    "plt.ylabel('Accuracy')\n",
    "plt.xlabel('Epochs')\n",
    "fig\n",
    "\n",
    "fig2 = plt.figure()\n",
    "plt.plot(h.history['loss'], color ='blue')\n",
    "plt.plot(h.history['val_loss'],color ='red')\n",
    "plt.title('Model Loss')\n",
    "plt.ylabel('Loss')\n",
    "plt.xlabel('Epochs')\n",
    "plt.legend(['Train Loss', 'Test Loss'], loc='upper right')\n",
    "plt.show()\n"
   ]
  },
  {
   "cell_type": "code",
   "execution_count": null,
   "metadata": {},
   "outputs": [],
   "source": [
    "model.reset_states() #clear previous model weights\n",
    "\n",
    "model = Sequential()\n",
    "model.add(Conv2D(32, (3, 3), input_shape=(img_size, img_size, 3)))\n",
    "model.add(Activation('relu'))\n",
    "model.add(Conv2D(16, 5)) #new convolution layer\n",
    "model.add(Activation('relu')) #activation function for new layer\n",
    "model.add(MaxPooling2D(pool_size=(2, 2)))\n",
    "model.add(Flatten())\n",
    "model.add(Dense(2))\n",
    "model.add(Activation('softmax'))\n",
    "adamop=Adam(lr=0.1)\n",
    "model.compile(loss='binary_crossentropy', optimizer='adam',metrics=['accuracy'])"
   ]
  },
  {
   "cell_type": "code",
   "execution_count": null,
   "metadata": {},
   "outputs": [],
   "source": [
    "h = model.fit(train_x, train_y, validation_data=(test_x, test_y),\n",
    " batch_size=128,\n",
    " epochs=50,\n",
    " shuffle=True)\n",
    "score = model.evaluate(test_x, test_y)\n",
    "pred=model.predict(test_x)\n",
    "print('Test loss:', score[0])\n",
    "print('Test accuracy:', score[1])"
   ]
  },
  {
   "cell_type": "code",
   "execution_count": null,
   "metadata": {},
   "outputs": [],
   "source": [
    "model.summary()"
   ]
  },
  {
   "cell_type": "code",
   "execution_count": null,
   "metadata": {},
   "outputs": [],
   "source": [
    "model.reset_states() #clear previous model weights\n",
    "\n",
    "model = Sequential()\n",
    "model.add(Conv2D(32, (5, 5), input_shape=(img_size, img_size, 3)))\n",
    "model.add(Activation('relu'))\n",
    "model.add(MaxPooling2D(pool_size=(2, 2))) \n",
    "model.add(Conv2D(16, (5, 5))) \n",
    "model.add(Activation('relu')) \n",
    "model.add(MaxPooling2D(pool_size=(2, 2)))\n",
    "model.add(Conv2D(120, (5, 5))) \n",
    "model.add(Activation('relu')) \n",
    "model.add(Flatten())\n",
    "model.add(Dense(84))\n",
    "model.add(Activation('relu'))\n",
    "model.add(Dense(2))\n",
    "model.add(Activation('softmax'))\n",
    "model.summary()\n",
    "model.compile(loss='binary_crossentropy', optimizer='adam', metrics=['accuracy'])"
   ]
  },
  {
   "cell_type": "code",
   "execution_count": null,
   "metadata": {},
   "outputs": [],
   "source": [
    "h = model.fit(train_x, train_y, validation_data=(test_x, test_y),\n",
    " batch_size=128,\n",
    " epochs=5,\n",
    " shuffle=True)\n",
    "score = model.evaluate(test_x, test_y)\n",
    "pred=model.predict(test_x)\n",
    "print('Test loss:', score[0])\n",
    "print('Test accuracy:', score[1])"
   ]
  },
  {
   "cell_type": "markdown",
   "metadata": {},
   "source": [
    "Investigate Kernal Size"
   ]
  },
  {
   "cell_type": "code",
   "execution_count": null,
   "metadata": {},
   "outputs": [],
   "source": [
    "def tryNewFilterSizeFn(h,w):\n",
    "    model = Sequential()\n",
    "    model.add(Conv2D(32, (h,w), input_shape=(img_size, img_size, 3)))\n",
    "    model.add(Activation('relu'))\n",
    "    model.add(MaxPooling2D(pool_size=(2, 2))) #MaxPooling2D\n",
    "    model.add(Conv2D(16, (h,w))) \n",
    "    model.add(Activation('relu')) \n",
    "    model.add(MaxPooling2D(pool_size=(2, 2)))\n",
    "    model.add(Conv2D(120, (h,w))) \n",
    "    model.add(Activation('relu')) \n",
    "    model.add(Flatten())\n",
    "    model.add(Dense(84))\n",
    "    model.add(Activation('relu'))\n",
    "    model.add(Dense(2))\n",
    "    model.add(Activation('softmax'))\n",
    "    model.compile(loss='binary_crossentropy', optimizer='adam', metrics=['accuracy'])\n",
    "\n",
    "    model.fit(train_x, train_y,\n",
    "    batch_size=batch_size,\n",
    "    verbose = 0,\n",
    "    epochs=5,\n",
    "    shuffle=True)\n",
    "\n",
    "    score = model.evaluate(test_x, test_y)\n",
    "    pred=model.predict(test_x)\n",
    "    loss = score[0]\n",
    "    acc = score[1]\n",
    "    return acc,loss"
   ]
  },
  {
   "cell_type": "code",
   "execution_count": null,
   "metadata": {},
   "outputs": [],
   "source": [
    "h_list = [3,3,1,9]\n",
    "w_list = [3,1,3,1]\n",
    "\n",
    "for h,w in map(lambda x,y:(x,y),h_list,w_list):\n",
    "    print('Filter Size : '+str(h)+','+str(w))\n",
    "    acc, loss = tryNewFilterSizeFn(h,w)\n",
    "    print('Test loss:', loss)\n",
    "    print('Test accuracy:', acc)"
   ]
  },
  {
   "cell_type": "code",
   "execution_count": null,
   "metadata": {},
   "outputs": [],
   "source": [
    "def tryNewActivationFn(conv_act, dense_act, output_act):\n",
    "    model = Sequential()\n",
    "    model.add(Conv2D(32, (5, 5), input_shape=(img_size, img_size, 3)))\n",
    "    model.add(Activation(conv_act))\n",
    "    model.add(MaxPooling2D(pool_size=(2, 2))) #MaxPooling2D\n",
    "    model.add(Conv2D(16, (5, 5))) \n",
    "    model.add(Activation(conv_act)) \n",
    "    model.add(MaxPooling2D(pool_size=(2, 2)))\n",
    "    model.add(Conv2D(120, (5, 5))) \n",
    "    model.add(Activation(conv_act)) \n",
    "    model.add(Flatten())\n",
    "    model.add(Dense(84))\n",
    "    model.add(Activation(dense_act))\n",
    "    model.add(Dense(2))\n",
    "    model.add(Activation(output_act))\n",
    "\n",
    "    model.compile(loss='binary_crossentropy', optimizer='adam', metrics=['accuracy'])\n",
    "\n",
    "    model.fit(train_x, train_y,\n",
    "    batch_size=batch_size,\n",
    "    verbose = 0,\n",
    "    epochs=5,\n",
    "    shuffle=True)\n",
    "\n",
    "    score = model.evaluate(test_x, test_y)\n",
    "    pred=model.predict(test_x)\n",
    "    loss = score[0]\n",
    "    acc = score[1]\n",
    "    return acc,loss"
   ]
  },
  {
   "cell_type": "code",
   "execution_count": null,
   "metadata": {},
   "outputs": [],
   "source": [
    "convolution_fns = ['relu']\n",
    "dense_fns = ['relu','tanh']\n",
    "output_fns = ['softmax','sigmoid']"
   ]
  },
  {
   "cell_type": "code",
   "execution_count": null,
   "metadata": {
    "scrolled": true
   },
   "outputs": [],
   "source": [
    "for conv_fn in convolution_fns:\n",
    "    model.reset_states() #clear previous model weights\n",
    "    for dense_fn in dense_fns:\n",
    "        for output_fn in output_fns:\n",
    "            print('Convolution Activation:', conv_fn, '| Hidden Activation:', dense_fn, '| Output Activation:', output_fn)\n",
    "            acc, loss = tryNewActivationFn(conv_fn,dense_fn, output_fn)\n",
    "            print('Test loss:', loss)\n",
    "            print('Test accuracy:', acc)"
   ]
  },
  {
   "cell_type": "code",
   "execution_count": null,
   "metadata": {},
   "outputs": [],
   "source": [
    "model.reset_states() #clear previous model weights\n",
    "\n",
    "model = Sequential()\n",
    "model.add(Conv2D(32, (5, 5), input_shape=(img_size, img_size, 3)))\n",
    "model.add(Activation('relu'))\n",
    "model.add(MaxPooling2D(pool_size=(2, 2))) #MaxPooling2D\n",
    "model.add(Conv2D(16, (5, 5))) \n",
    "model.add(Activation('relu')) \n",
    "model.add(MaxPooling2D(pool_size=(2, 2)))\n",
    "model.add(Conv2D(120, (5, 5))) \n",
    "model.add(Activation('relu')) \n",
    "model.add(Flatten())\n",
    "model.add(Dense(84))\n",
    "model.add(Activation('tanh'))\n",
    "model.add(Dense(2))\n",
    "model.add(Activation('sigmoid'))\n",
    "\n",
    "model.summary()\n",
    "\n",
    "model.compile(loss='binary_crossentropy', optimizer='adam', metrics=['accuracy'])\n",
    "\n"
   ]
  },
  {
   "cell_type": "code",
   "execution_count": null,
   "metadata": {},
   "outputs": [],
   "source": [
    "h = model.fit(train_x, train_y, validation_data=(test_x, test_y),\n",
    " batch_size=128,\n",
    " epochs=5,\n",
    " shuffle=True)\n",
    "\n",
    "score = model.evaluate(test_x, test_y)\n",
    "pred=model.predict(test_x)\n",
    "print('Test loss:', score[0])\n",
    "print('Test accuracy:', score[1])"
   ]
  },
  {
   "cell_type": "code",
   "execution_count": null,
   "metadata": {},
   "outputs": [],
   "source": [
    "model.reset_states() #clear previous model weights\n",
    "\n",
    "model = Sequential()\n",
    "model.add(Conv2D(32, (5, 5), input_shape=(img_size, img_size, 3)))\n",
    "model.add(Activation('relu'))\n",
    "model.add(Dropout(0.1))\n",
    "model.add(MaxPooling2D(pool_size=(2, 2))) \n",
    "model.add(Conv2D(16, (5, 5))) \n",
    "model.add(Activation('relu')) \n",
    "model.add(Dropout(0.1))\n",
    "model.add(MaxPooling2D(pool_size=(2, 2)))\n",
    "model.add(Conv2D(120, (5, 5))) \n",
    "model.add(Activation('relu')) \n",
    "model.add(Dropout(0.1))\n",
    "model.add(Flatten())\n",
    "model.add(Dense(84))\n",
    "model.add(Activation('relu'))\n",
    "model.add(Dropout(0.1))\n",
    "model.add(Dense(2))\n",
    "model.add(Activation('softmax'))\n",
    "model.summary()\n",
    "model.compile(loss='binary_crossentropy', optimizer='adam', metrics=['accuracy'])"
   ]
  },
  {
   "cell_type": "code",
   "execution_count": null,
   "metadata": {},
   "outputs": [],
   "source": [
    "h = model.fit(train_x, train_y, validation_data=(test_x, test_y),\n",
    " batch_size=128,\n",
    " epochs=5,\n",
    " shuffle=True)\n",
    "score = model.evaluate(test_x, test_y)\n",
    "pred=model.predict(test_x)\n",
    "print('Test loss:', score[0])\n",
    "print('Test accuracy:', score[1])"
   ]
  },
  {
   "cell_type": "markdown",
   "metadata": {},
   "source": [
    "Cost Function & Optimizers"
   ]
  },
  {
   "cell_type": "code",
   "execution_count": null,
   "metadata": {},
   "outputs": [],
   "source": [
    "def tryNewOptFn(opt):\n",
    "    model = Sequential()\n",
    "    model.add(Conv2D(32, (5, 5), input_shape=(img_size, img_size, 3)))\n",
    "    model.add(Activation('relu'))\n",
    "    model.add(MaxPooling2D(pool_size=(2, 2))) #MaxPooling2D\n",
    "    model.add(Conv2D(16, (5, 5))) \n",
    "    model.add(Activation('relu')) \n",
    "    model.add(MaxPooling2D(pool_size=(2, 2)))\n",
    "    model.add(Conv2D(120, (5, 5))) \n",
    "    model.add(Activation('relu')) \n",
    "    model.add(Flatten())\n",
    "    model.add(Dense(84))\n",
    "    model.add(Activation('tanh'))\n",
    "    model.add(Dropout(rate = 0.2)) #adding dropout to our hidden layer \n",
    "    model.add(Dense(2))\n",
    "    model.add(Activation('softmax'))\n",
    "\n",
    "    model.compile(loss='binary_crossentropy', optimizer=opt, metrics=['accuracy'])\n",
    "\n",
    "    model.fit(train_x, train_y,\n",
    "    batch_size=batch_size,\n",
    "    verbose = 0,\n",
    "    epochs=epochs,\n",
    "    shuffle=True)\n",
    "\n",
    "    score = model.evaluate(test_x, test_y)\n",
    "    pred=model.predict(test_x)\n",
    "    loss = score[0]\n",
    "    acc = score[1]\n",
    "    return acc,loss"
   ]
  },
  {
   "cell_type": "code",
   "execution_count": null,
   "metadata": {},
   "outputs": [],
   "source": [
    "opt_list = ['sgd','adam','adamax','adagrad']"
   ]
  },
  {
   "cell_type": "code",
   "execution_count": null,
   "metadata": {},
   "outputs": [],
   "source": [
    "for opt in opt_list:\n",
    "    print('Optimizer:', opt)\n",
    "    acc, loss = tryNewOptFn(opt)\n",
    "    print('Test loss:', loss)\n",
    "    print('Test accuracy:', acc)"
   ]
  },
  {
   "cell_type": "markdown",
   "metadata": {},
   "source": [
    "VISUALIZE THE CNN"
   ]
  },
  {
   "cell_type": "code",
   "execution_count": null,
   "metadata": {},
   "outputs": [],
   "source": [
    "# Visualize the CNN: https://www.kaggle.com/amarjeet007/visualize-cnn-with-keras"
   ]
  },
  {
   "cell_type": "code",
   "execution_count": null,
   "metadata": {},
   "outputs": [],
   "source": [
    "from keras.callbacks import ModelCheckpoint,LearningRateScheduler\n",
    "import math\n",
    "\n",
    "def step_decay(epoch):\n",
    "    \n",
    "    \n",
    "    initial_lrate=0.01\n",
    "    drop=0.6\n",
    "    epochs_drop = 3.0\n",
    "    lrate= initial_lrate * math.pow(drop,  \n",
    "           math.floor((1+epoch)/epochs_drop))\n",
    "    return lrate\n",
    "   \n",
    "\n",
    "lrate = LearningRateScheduler(step_decay)\n",
    "callbacks_list = [ lrate]"
   ]
  },
  {
   "cell_type": "code",
   "execution_count": null,
   "metadata": {
    "scrolled": false
   },
   "outputs": [],
   "source": [
    "model = Sequential()\n",
    "model.add(Conv2D(32, (5, 5), input_shape=(img_size, img_size, 3)))\n",
    "model.add(Activation('relu'))\n",
    "model.add(MaxPooling2D(pool_size=(2, 2))) #AveragePooling2D\n",
    "model.add(Conv2D(16, (5, 5))) \n",
    "model.add(Activation('relu')) \n",
    "model.add(MaxPooling2D(pool_size=(2, 2)))\n",
    "model.add(Conv2D(120, (5, 5))) \n",
    "model.add(Activation('relu')) \n",
    "model.add(Flatten())\n",
    "model.add(Dense(84))\n",
    "model.add(Activation('tanh'))\n",
    "model.add(Dropout(rate = 0.2)) #adding dropout to our hidden layer \n",
    "model.add(Dense(2))\n",
    "model.add(Activation('sigmoid'))\n",
    "model.summary()\n",
    "  \n",
    "model.compile(loss='binary_crossentropy', optimizer='sgd', metrics=['accuracy'])\n"
   ]
  },
  {
   "cell_type": "code",
   "execution_count": null,
   "metadata": {},
   "outputs": [],
   "source": [
    "history=model.fit(train_x, train_y, validation_data=(test_x, test_y),\n",
    "                          epochs=50,callbacks=callbacks_list,verbose=0)\n",
    "\n",
    "score = model.evaluate(test_x, test_y)\n",
    "pred=model.predict(test_x)\n",
    "print('Test loss:', score[0])\n",
    "print('Test accuracy:', score[1])"
   ]
  },
  {
   "cell_type": "code",
   "execution_count": null,
   "metadata": {},
   "outputs": [],
   "source": [
    "#Training & Validation Loss\n",
    "\n",
    "import matplotlib.pyplot as plt\n",
    "loss = history.history['loss']\n",
    "val_loss = history.history['val_loss']\n",
    "epochs = range(1, len(loss) + 1)\n",
    "plt.plot(epochs, loss, color='red', label='Training loss')\n",
    "plt.plot(epochs, val_loss, color='green', label='Validation loss')\n",
    "plt.title('Training and validation loss')\n",
    "plt.xlabel('Epochs')\n",
    "plt.ylabel('Loss')\n",
    "plt.legend()\n",
    "plt.show()"
   ]
  },
  {
   "cell_type": "code",
   "execution_count": null,
   "metadata": {},
   "outputs": [],
   "source": [
    "# Training & Validation Accuracy\n",
    "\n",
    "acc = history.history['acc']\n",
    "val_acc = history.history['val_acc']\n",
    "plt.plot(epochs, acc, color='red', label='Training acc')\n",
    "plt.plot(epochs, val_acc, color='green', label='Validation acc')\n",
    "plt.title('Training and validation accuracy')\n",
    "plt.xlabel('Epochs')\n",
    "plt.ylabel('Loss')\n",
    "plt.legend()\n",
    "plt.show()"
   ]
  },
  {
   "cell_type": "code",
   "execution_count": null,
   "metadata": {},
   "outputs": [],
   "source": [
    "from keras.models import Model\n",
    "layer_outputs = [layer.output for layer in model.layers]\n",
    "activation_model = Model(inputs=model.input, outputs=layer_outputs)\n",
    "activations = activation_model.predict(train_x[35].reshape(1,64,64,3))\n",
    " \n",
    "def display_activation(activations, col_size, row_size, act_index): \n",
    "    activation = activations[act_index]\n",
    "    activation_index=0\n",
    "    fig, ax = plt.subplots(row_size, col_size, figsize=(row_size*2.5,col_size*1.5))\n",
    "    for row in range(0,row_size):\n",
    "        for col in range(0,col_size):\n",
    "            ax[row][col].imshow(activation[0, :, :, activation_index], cmap='gray')\n",
    "            activation_index += 1"
   ]
  },
  {
   "cell_type": "code",
   "execution_count": null,
   "metadata": {},
   "outputs": [],
   "source": [
    "plt.imshow(train_x[35][:,:,0]);"
   ]
  },
  {
   "cell_type": "code",
   "execution_count": null,
   "metadata": {},
   "outputs": [],
   "source": [
    "display_activation(activations, 5, 5, 2) #convolution one "
   ]
  },
  {
   "cell_type": "code",
   "execution_count": null,
   "metadata": {},
   "outputs": [],
   "source": [
    "display_activation(activations, 4, 4, 3) #max pool one "
   ]
  },
  {
   "cell_type": "code",
   "execution_count": null,
   "metadata": {},
   "outputs": [],
   "source": [
    "display_activation(activations, 5, 5, 6) # convolution 2"
   ]
  },
  {
   "cell_type": "code",
   "execution_count": null,
   "metadata": {},
   "outputs": [],
   "source": []
  }
 ],
 "metadata": {
  "kernelspec": {
   "display_name": "Python 3",
   "language": "python",
   "name": "python3"
  },
  "language_info": {
   "codemirror_mode": {
    "name": "ipython",
    "version": 3
   },
   "file_extension": ".py",
   "mimetype": "text/x-python",
   "name": "python",
   "nbconvert_exporter": "python",
   "pygments_lexer": "ipython3",
   "version": "3.6.5"
  }
 },
 "nbformat": 4,
 "nbformat_minor": 2
}
